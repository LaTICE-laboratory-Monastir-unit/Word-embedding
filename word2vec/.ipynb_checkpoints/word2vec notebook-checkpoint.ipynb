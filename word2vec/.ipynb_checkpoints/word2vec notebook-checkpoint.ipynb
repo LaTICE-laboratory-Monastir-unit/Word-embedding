{
 "cells": [
  {
   "cell_type": "markdown",
   "metadata": {
    "deletable": true,
    "editable": true,
    "nbpresent": {
     "id": "65a0957c-320f-478e-8210-a4bcff2be6c5"
    }
   },
   "source": [
    "# Word Embedding Techniques (word2vec)"
   ]
  },
  {
   "cell_type": "markdown",
   "metadata": {
    "deletable": true,
    "editable": true,
    "nbpresent": {
     "id": "9f37df16-d275-4f41-8f29-170c65ef40eb"
    }
   },
   "source": [
    "A word is known by the company it keeps"
   ]
  },
  {
   "cell_type": "markdown",
   "metadata": {
    "deletable": true,
    "editable": true,
    "nbpresent": {
     "id": "fef8ae8f-42ac-4f81-93bb-094b4f103dca"
    }
   },
   "source": [
    "## What is word2vec?"
   ]
  },
  {
   "cell_type": "markdown",
   "metadata": {
    "deletable": true,
    "editable": true,
    "nbpresent": {
     "id": "c2078c0c-4f59-4f61-89ee-614088da1a30"
    }
   },
   "source": [
    "Word2vec is **not** a single algorithm\n",
    "\n",
    "It is a software package for representing words as vectors, containing:\n",
    "* Two distinct models\n",
    "    * Skip-gram.\n",
    "    * CBOW :continuous bag of words .\n",
    "\n",
    "Given a window size of n words around a word w :\n",
    "- the **skip-gram** model predicts the neighboring words given the current word. \n",
    "\n",
    "In contrast, \n",
    "\n",
    "- the **CBOW** model predicts the current word w, given the neighboring words in the window."
   ]
  },
  {
   "cell_type": "markdown",
   "metadata": {
    "deletable": true,
    "editable": true,
    "nbpresent": {
     "id": "6b83c8af-9871-4436-9f9e-5095e8d6d7b3"
    }
   },
   "source": [
    "# "
   ]
  },
  {
   "cell_type": "markdown",
   "metadata": {
    "deletable": true,
    "editable": true,
    "nbpresent": {
     "id": "a030a348-f4e0-4597-8084-720368451e87"
    }
   },
   "source": [
    "### Import the necessary libraries"
   ]
  },
  {
   "cell_type": "code",
   "execution_count": 1,
   "metadata": {
    "collapsed": false,
    "deletable": true,
    "editable": true,
    "nbpresent": {
     "id": "7a6aacef-f822-4739-9b31-52cdf6531fec"
    }
   },
   "outputs": [
    {
     "name": "stderr",
     "output_type": "stream",
     "text": [
      "C:\\ProgramData\\Anaconda3\\lib\\site-packages\\gensim\\utils.py:860: UserWarning: detected Windows; aliasing chunkize to chunkize_serial\n",
      "  warnings.warn(\"detected Windows; aliasing chunkize to chunkize_serial\")\n"
     ]
    }
   ],
   "source": [
    "import re\n",
    "import gensim\n",
    "from gensim.models import Word2Vec\n",
    "import os\n",
    "from nltk.tokenize import word_tokenize\n",
    "from gensim.models.keyedvectors import KeyedVectors"
   ]
  },
  {
   "cell_type": "markdown",
   "metadata": {
    "deletable": true,
    "editable": true,
    "nbpresent": {
     "id": "381dd11a-df29-492c-a019-cde8c20edd2c"
    }
   },
   "source": [
    "### Preprocessing methodes"
   ]
  },
  {
   "cell_type": "code",
   "execution_count": null,
   "metadata": {
    "collapsed": false,
    "deletable": true,
    "editable": true,
    "nbpresent": {
     "id": "c1866d20-01ce-4f66-b926-23d672cab734"
    }
   },
   "outputs": [],
   "source": [
    "def preprocessing(string):\n",
    "    string =re.sub(r'[^\\u0600-\\u06FF]', ' ', string)  \n",
    "    return re.sub(r\"\\s{2,}\", \" \", string).strip()"
   ]
  },
  {
   "cell_type": "markdown",
   "metadata": {
    "deletable": true,
    "editable": true,
    "nbpresent": {
     "id": "577f4f83-a009-403e-90b1-c69c6b40c92e"
    }
   },
   "source": [
    "### Helper class for momery"
   ]
  },
  {
   "cell_type": "code",
   "execution_count": 8,
   "metadata": {
    "collapsed": false,
    "deletable": true,
    "editable": true,
    "nbpresent": {
     "id": "caebfe21-9221-49eb-a9c3-8ee40ca5e3d0"
    }
   },
   "outputs": [],
   "source": [
    "class Sentences(object):\n",
    "    def __init__(self, dirname):\n",
    "        self.dirname = dirname\n",
    " \n",
    "    def __iter__(self):\n",
    "        for fname in os.listdir(self.dirname):\n",
    "            print(os.path.join(self.dirname, fname))\n",
    "            for line in open(os.path.join(self.dirname, fname),encoding='utf8'):\n",
    "                yield word_tokenize(line)"
   ]
  },
  {
   "cell_type": "markdown",
   "metadata": {
    "deletable": true,
    "editable": true,
    "nbpresent": {
     "id": "dd75e6c5-7dc4-4a98-848a-a9754e93ad71"
    }
   },
   "source": [
    "### Create and train  word2vec model "
   ]
  },
  {
   "cell_type": "code",
   "execution_count": 16,
   "metadata": {
    "collapsed": false,
    "deletable": true,
    "editable": true,
    "nbpresent": {
     "id": "4605bf02-c308-44bd-8a82-661714a14b56"
    }
   },
   "outputs": [],
   "source": [
    "sentences = Sentences('./corpus')"
   ]
  },
  {
   "cell_type": "code",
   "execution_count": null,
   "metadata": {
    "collapsed": false,
    "deletable": true,
    "editable": true,
    "nbpresent": {
     "id": "49ec5d37-f523-48bf-951d-dc809f4ab658"
    }
   },
   "outputs": [],
   "source": [
    "model = Word2Vec(sentences,size=100,min_count=10,workers=4,iter=10,sg=1)"
   ]
  },
  {
   "cell_type": "markdown",
   "metadata": {
    "deletable": true,
    "editable": true,
    "nbpresent": {
     "id": "b035179e-ee22-46c1-9e47-d2bbcfe3d8c8"
    }
   },
   "source": [
    "### Save and load the model"
   ]
  },
  {
   "cell_type": "code",
   "execution_count": 8,
   "metadata": {
    "collapsed": false,
    "deletable": true,
    "editable": true,
    "nbpresent": {
     "id": "2773929d-37b8-4e8a-ac10-5a643cde1722"
    }
   },
   "outputs": [],
   "source": [
    "model.wv.save('./saved_models/wiki_corpus_word2vec_size100_skip_gram_wv')"
   ]
  },
  {
   "cell_type": "code",
   "execution_count": 14,
   "metadata": {
    "collapsed": false,
    "deletable": true,
    "editable": true,
    "nbpresent": {
     "id": "433eb8d4-aa09-4b42-8a9d-fe88f8e6fb2a"
    }
   },
   "outputs": [],
   "source": [
    "word2vec = KeyedVectors.load('./saved_models/wiki_corpus_word2vec_size100_skip_gram_wv')"
   ]
  },
  {
   "cell_type": "markdown",
   "metadata": {
    "deletable": true,
    "editable": true,
    "nbpresent": {
     "id": "2cef0594-328b-419f-92de-9f49a44f9e8e"
    }
   },
   "source": [
    "## Using the trained model"
   ]
  },
  {
   "cell_type": "markdown",
   "metadata": {
    "deletable": true,
    "editable": true,
    "nbpresent": {
     "id": "0b8b984c-feb3-4a82-bef5-7782ced666cc"
    }
   },
   "source": [
    "### Vocabulaire"
   ]
  },
  {
   "cell_type": "code",
   "execution_count": null,
   "metadata": {
    "collapsed": false,
    "deletable": true,
    "editable": true,
    "nbpresent": {
     "id": "e6c4bda0-ed6b-4e85-9652-395f4234312a"
    }
   },
   "outputs": [],
   "source": [
    "word2vec.index2word"
   ]
  },
  {
   "cell_type": "markdown",
   "metadata": {
    "deletable": true,
    "editable": true,
    "nbpresent": {
     "id": "26196e22-e109-49a4-85a2-3cf2aab1ff9a"
    }
   },
   "source": [
    "### vector['word']"
   ]
  },
  {
   "cell_type": "code",
   "execution_count": null,
   "metadata": {
    "collapsed": true,
    "deletable": true,
    "editable": true,
    "nbpresent": {
     "id": "65454cca-65ad-4c3d-b392-88d1387f92e4"
    }
   },
   "outputs": [],
   "source": [
    "word2vec['فيها']"
   ]
  },
  {
   "cell_type": "markdown",
   "metadata": {
    "deletable": true,
    "editable": true,
    "nbpresent": {
     "id": "c4f5f132-f2f0-4ef7-a680-7da2f0bfe354"
    }
   },
   "source": [
    "### Most similar"
   ]
  },
  {
   "cell_type": "code",
   "execution_count": 14,
   "metadata": {
    "collapsed": false,
    "deletable": true,
    "editable": true,
    "nbpresent": {
     "id": "bd090d46-e475-4474-9254-d26f499aeb15"
    }
   },
   "outputs": [
    {
     "data": {
      "text/plain": [
       "[('بها', 0.720863401889801),\n",
       " ('فيه', 0.7065894603729248),\n",
       " ('به', 0.5436509251594543),\n",
       " ('فيهم', 0.5159602165222168),\n",
       " ('فيها،', 0.5068670511245728),\n",
       " ('بها،', 0.49020761251449585),\n",
       " ('يكفي', 0.41754448413848877),\n",
       " ('ذلك', 0.4129946827888489),\n",
       " ('لها', 0.4123121500015259),\n",
       " ('الكفاية', 0.3986240029335022)]"
      ]
     },
     "execution_count": 14,
     "metadata": {},
     "output_type": "execute_result"
    }
   ],
   "source": [
    "word2vec.most_similar('فيها')"
   ]
  },
  {
   "cell_type": "code",
   "execution_count": null,
   "metadata": {
    "collapsed": false,
    "deletable": true,
    "editable": true,
    "nbpresent": {
     "id": "c2a9cadf-99da-4314-b1aa-5a9c3049484f"
    }
   },
   "outputs": [],
   "source": []
  },
  {
   "cell_type": "code",
   "execution_count": 19,
   "metadata": {
    "collapsed": false,
    "deletable": true,
    "editable": true,
    "nbpresent": {
     "id": "7e90d098-4b64-46f1-926f-1a1cfea9b196"
    }
   },
   "outputs": [
    {
     "data": {
      "text/plain": [
       "[('الحاضر', 0.43474435806274414),\n",
       " ('له', 0.41532206535339355),\n",
       " ('الحالي', 0.395750492811203),\n",
       " ('ذاك', 0.3909185528755188),\n",
       " ('ولادته', 0.3784900903701782),\n",
       " ('يحكمها', 0.37023404240608215),\n",
       " ('البداية', 0.36946800351142883),\n",
       " ('نفس', 0.3639281690120697),\n",
       " ('اسمها', 0.3634480834007263),\n",
       " ('ذلك،', 0.36070728302001953)]"
      ]
     },
     "execution_count": 19,
     "metadata": {},
     "output_type": "execute_result"
    }
   ],
   "source": [
    "word2vec.most_similar(positive=['ذلك', 'لها'], negative=['يكفي'])"
   ]
  },
  {
   "cell_type": "markdown",
   "metadata": {
    "deletable": true,
    "editable": true,
    "nbpresent": {
     "id": "4aa75739-1264-456c-8b09-c0cce759dde6"
    }
   },
   "source": [
    "### Similarity between two words"
   ]
  },
  {
   "cell_type": "code",
   "execution_count": null,
   "metadata": {
    "collapsed": false,
    "deletable": true,
    "editable": true,
    "nbpresent": {
     "id": "0a716616-a116-42da-818b-e07efaa66736"
    }
   },
   "outputs": [],
   "source": [
    "word2vec.similarity('على','مع')"
   ]
  },
  {
   "cell_type": "markdown",
   "metadata": {
    "deletable": true,
    "editable": true,
    "nbpresent": {
     "id": "2c02d6e9-96b8-47c5-819f-0ba2ba54c9b4"
    }
   },
   "source": [
    "### doesnt_match"
   ]
  },
  {
   "cell_type": "code",
   "execution_count": 20,
   "metadata": {
    "collapsed": false,
    "deletable": true,
    "editable": true,
    "nbpresent": {
     "id": "ff81d761-cd85-481a-8b75-18a5d9f4ed0c"
    }
   },
   "outputs": [
    {
     "data": {
      "text/plain": [
       "'نفس'"
      ]
     },
     "execution_count": 20,
     "metadata": {},
     "output_type": "execute_result"
    }
   ],
   "source": [
    "word2vec.doesnt_match(['نفس', 'ذلك', 'ولادته', 'البداية'])"
   ]
  },
  {
   "cell_type": "code",
   "execution_count": null,
   "metadata": {
    "collapsed": true,
    "deletable": true,
    "editable": true,
    "nbpresent": {
     "id": "99c6192b-5a25-47a0-bd5f-3b2376244218"
    }
   },
   "outputs": [],
   "source": []
  }
 ],
 "metadata": {
  "kernelspec": {
   "display_name": "Python 3",
   "language": "python",
   "name": "python3"
  },
  "language_info": {
   "codemirror_mode": {
    "name": "ipython",
    "version": 3
   },
   "file_extension": ".py",
   "mimetype": "text/x-python",
   "name": "python",
   "nbconvert_exporter": "python",
   "pygments_lexer": "ipython3",
   "version": "3.5.3"
  },
  "nbpresent": {
   "slides": {
    "0e71a3c3-6c64-4f98-9771-ca7f83d8e70a": {
     "id": "0e71a3c3-6c64-4f98-9771-ca7f83d8e70a",
     "prev": "cccc3eaf-5a80-4448-9e8e-417fe5215c65",
     "regions": {
      "a9263439-f3cb-4a58-805b-7d7e45ebf54a": {
       "attrs": {
        "height": 0.8,
        "width": 0.8,
        "x": 0.1,
        "y": 0.1
       },
       "content": {
        "cell": "2c02d6e9-96b8-47c5-819f-0ba2ba54c9b4",
        "part": "whole"
       },
       "id": "a9263439-f3cb-4a58-805b-7d7e45ebf54a"
      }
     }
    },
    "1429416d-9532-499d-b5dc-9d59d84f07e0": {
     "id": "1429416d-9532-499d-b5dc-9d59d84f07e0",
     "prev": "8243ab5e-ba66-43b7-9ef8-84c8bdebbdfb",
     "regions": {
      "73dbd585-4480-499c-bb76-0b8da8eb6052": {
       "attrs": {
        "height": 0.8,
        "width": 0.8,
        "x": 0.1,
        "y": 0.1
       },
       "content": {
        "cell": "dd75e6c5-7dc4-4a98-848a-a9754e93ad71",
        "part": "whole"
       },
       "id": "73dbd585-4480-499c-bb76-0b8da8eb6052"
      }
     }
    },
    "249e59e3-0433-47c2-8e16-320e407cf6c8": {
     "id": "249e59e3-0433-47c2-8e16-320e407cf6c8",
     "prev": "4a4afeda-67cd-47b5-9871-178dca978bf0",
     "regions": {
      "d3b97d2c-7c25-4634-94d3-88968269049a": {
       "attrs": {
        "height": 0.8,
        "width": 0.8,
        "x": 0.1,
        "y": 0.1
       },
       "content": {
        "cell": "c2a9cadf-99da-4314-b1aa-5a9c3049484f",
        "part": "whole"
       },
       "id": "d3b97d2c-7c25-4634-94d3-88968269049a"
      }
     }
    },
    "2df38fd9-7e2b-42f1-b587-a6884166b895": {
     "id": "2df38fd9-7e2b-42f1-b587-a6884166b895",
     "prev": "0e71a3c3-6c64-4f98-9771-ca7f83d8e70a",
     "regions": {
      "80a17c15-c439-410b-bf88-10e4cb1b3b47": {
       "attrs": {
        "height": 0.8,
        "width": 0.8,
        "x": 0.1,
        "y": 0.1
       },
       "content": {
        "cell": "ff81d761-cd85-481a-8b75-18a5d9f4ed0c",
        "part": "whole"
       },
       "id": "80a17c15-c439-410b-bf88-10e4cb1b3b47"
      }
     }
    },
    "30d25174-cc99-4525-862e-c72cd9b0be93": {
     "id": "30d25174-cc99-4525-862e-c72cd9b0be93",
     "prev": "addbc8d3-2f6b-4ae9-b519-4d90329ff164",
     "regions": {
      "3242653e-97cc-43da-a407-2fe33e7c8246": {
       "attrs": {
        "height": 0.8,
        "width": 0.8,
        "x": 0.1,
        "y": 0.1
       },
       "content": {
        "cell": "49ec5d37-f523-48bf-951d-dc809f4ab658",
        "part": "whole"
       },
       "id": "3242653e-97cc-43da-a407-2fe33e7c8246"
      }
     }
    },
    "34a13072-2a87-421d-9349-9a932412937e": {
     "id": "34a13072-2a87-421d-9349-9a932412937e",
     "prev": "bdb0fbcc-e1a8-4593-a003-ac0164580df6",
     "regions": {
      "3558d053-1cd5-4944-9a81-4540378596f9": {
       "attrs": {
        "height": 0.8,
        "width": 0.8,
        "x": 0.1,
        "y": 0.1
       },
       "content": {
        "cell": "65454cca-65ad-4c3d-b392-88d1387f92e4",
        "part": "whole"
       },
       "id": "3558d053-1cd5-4944-9a81-4540378596f9"
      }
     }
    },
    "3e923cdf-c173-4495-a635-28a41baa10f1": {
     "id": "3e923cdf-c173-4495-a635-28a41baa10f1",
     "prev": "8f2c1b95-78ed-4059-b560-32eaceab243c",
     "regions": {
      "9d525982-bebc-40d7-a01e-e07a1576f5f5": {
       "attrs": {
        "height": 0.8,
        "width": 0.8,
        "x": 0.1,
        "y": 0.1
       },
       "content": {
        "cell": "7a6aacef-f822-4739-9b31-52cdf6531fec",
        "part": "whole"
       },
       "id": "9d525982-bebc-40d7-a01e-e07a1576f5f5"
      }
     }
    },
    "3e962079-da1f-40e3-accd-f65fb159be90": {
     "id": "3e962079-da1f-40e3-accd-f65fb159be90",
     "prev": "cbd75989-eff0-4a0f-b37d-7ffff402264d",
     "regions": {
      "a601b530-e824-4c57-abc2-16245e2e7198": {
       "attrs": {
        "height": 0.8,
        "width": 0.8,
        "x": 0.1,
        "y": 0.1
       },
       "content": {
        "cell": "e6c4bda0-ed6b-4e85-9652-395f4234312a",
        "part": "whole"
       },
       "id": "a601b530-e824-4c57-abc2-16245e2e7198"
      }
     }
    },
    "432c36c0-485b-4692-b1d1-3f735647d89d": {
     "id": "432c36c0-485b-4692-b1d1-3f735647d89d",
     "prev": null,
     "regions": {
      "06efde8b-e811-42da-af2f-505b556bf75b": {
       "attrs": {
        "height": 0.8,
        "width": 0.8,
        "x": 0.1,
        "y": 0.1
       },
       "content": {
        "cell": "65a0957c-320f-478e-8210-a4bcff2be6c5",
        "part": "whole"
       },
       "id": "06efde8b-e811-42da-af2f-505b556bf75b"
      }
     }
    },
    "493cf285-b32d-4343-bbfe-016a8d150e73": {
     "id": "493cf285-b32d-4343-bbfe-016a8d150e73",
     "prev": "b95fe798-5305-4e57-a836-cbb17f7469b5",
     "regions": {
      "da9cbe8e-7ea1-4e61-bb19-9b07eaccbd45": {
       "attrs": {
        "height": 0.8,
        "width": 0.8,
        "x": 0.1,
        "y": 0.1
       },
       "content": {
        "cell": "6b83c8af-9871-4436-9f9e-5095e8d6d7b3",
        "part": "whole"
       },
       "id": "da9cbe8e-7ea1-4e61-bb19-9b07eaccbd45"
      }
     }
    },
    "4a4afeda-67cd-47b5-9871-178dca978bf0": {
     "id": "4a4afeda-67cd-47b5-9871-178dca978bf0",
     "prev": "ed97df68-f0be-4116-aa68-da82d58ed6e9",
     "regions": {
      "7d3d6ac8-0da6-447c-9019-07b70522122d": {
       "attrs": {
        "height": 0.8,
        "width": 0.8,
        "x": 0.1,
        "y": 0.1
       },
       "content": {
        "cell": "bd090d46-e475-4474-9254-d26f499aeb15",
        "part": "whole"
       },
       "id": "7d3d6ac8-0da6-447c-9019-07b70522122d"
      }
     }
    },
    "625d0685-91a5-4ed9-90af-82320008dd44": {
     "id": "625d0685-91a5-4ed9-90af-82320008dd44",
     "prev": "88146009-bf36-4b6e-a22f-1e8c4b8b6319",
     "regions": {
      "22172dd8-f95f-499d-86a6-522c9dad8dd8": {
       "attrs": {
        "height": 0.8,
        "width": 0.8,
        "x": 0.1,
        "y": 0.1
       },
       "content": {
        "cell": "2cef0594-328b-419f-92de-9f49a44f9e8e",
        "part": "whole"
       },
       "id": "22172dd8-f95f-499d-86a6-522c9dad8dd8"
      }
     }
    },
    "8243ab5e-ba66-43b7-9ef8-84c8bdebbdfb": {
     "id": "8243ab5e-ba66-43b7-9ef8-84c8bdebbdfb",
     "prev": "aa97ccc7-ed69-4af0-91fe-48cdf64236c4",
     "regions": {
      "8a0b0e59-3cef-4e8e-ba6c-f27d5fb32565": {
       "attrs": {
        "height": 0.8,
        "width": 0.8,
        "x": 0.1,
        "y": 0.1
       },
       "content": {
        "cell": "caebfe21-9221-49eb-a9c3-8ee40ca5e3d0",
        "part": "whole"
       },
       "id": "8a0b0e59-3cef-4e8e-ba6c-f27d5fb32565"
      }
     }
    },
    "8611301a-ef1b-47b3-8a13-41a6a5293abe": {
     "id": "8611301a-ef1b-47b3-8a13-41a6a5293abe",
     "prev": "432c36c0-485b-4692-b1d1-3f735647d89d",
     "regions": {
      "9698c0de-2cde-4fda-a91a-0f698ac117a8": {
       "attrs": {
        "height": 0.8,
        "width": 0.8,
        "x": 0.1,
        "y": 0.1
       },
       "content": {
        "cell": "9f37df16-d275-4f41-8f29-170c65ef40eb",
        "part": "whole"
       },
       "id": "9698c0de-2cde-4fda-a91a-0f698ac117a8"
      }
     }
    },
    "88146009-bf36-4b6e-a22f-1e8c4b8b6319": {
     "id": "88146009-bf36-4b6e-a22f-1e8c4b8b6319",
     "prev": "b743a238-444e-400f-83d4-01a181faf41a",
     "regions": {
      "a5433a32-ae89-4a3f-b5bc-4dc0707fddc2": {
       "attrs": {
        "height": 0.8,
        "width": 0.8,
        "x": 0.1,
        "y": 0.1
       },
       "content": {
        "cell": "433eb8d4-aa09-4b42-8a9d-fe88f8e6fb2a",
        "part": "whole"
       },
       "id": "a5433a32-ae89-4a3f-b5bc-4dc0707fddc2"
      }
     }
    },
    "8ed9a5db-3d01-45d9-8e9a-2da5f6b7f2c4": {
     "id": "8ed9a5db-3d01-45d9-8e9a-2da5f6b7f2c4",
     "prev": "30d25174-cc99-4525-862e-c72cd9b0be93",
     "regions": {
      "c798bcbe-f357-426c-85a5-55cc6ae7cc5e": {
       "attrs": {
        "height": 0.8,
        "width": 0.8,
        "x": 0.1,
        "y": 0.1
       },
       "content": {
        "cell": "b035179e-ee22-46c1-9e47-d2bbcfe3d8c8",
        "part": "whole"
       },
       "id": "c798bcbe-f357-426c-85a5-55cc6ae7cc5e"
      }
     }
    },
    "8f2c1b95-78ed-4059-b560-32eaceab243c": {
     "id": "8f2c1b95-78ed-4059-b560-32eaceab243c",
     "prev": "493cf285-b32d-4343-bbfe-016a8d150e73",
     "regions": {
      "3a99ea1a-609e-442f-aff4-6b36ce2369e1": {
       "attrs": {
        "height": 0.8,
        "width": 0.8,
        "x": 0.1,
        "y": 0.1
       },
       "content": {
        "cell": "a030a348-f4e0-4597-8084-720368451e87",
        "part": "whole"
       },
       "id": "3a99ea1a-609e-442f-aff4-6b36ce2369e1"
      }
     }
    },
    "9b543399-744d-4367-987c-523347d2b061": {
     "id": "9b543399-744d-4367-987c-523347d2b061",
     "prev": "dd57c27e-2a1a-4631-b6a2-1978ff30a0f9",
     "regions": {
      "b9c6e00f-a630-407a-b74c-f8723c9d4249": {
       "attrs": {
        "height": 0.8,
        "width": 0.8,
        "x": 0.1,
        "y": 0.1
       },
       "content": {
        "cell": "c1866d20-01ce-4f66-b926-23d672cab734",
        "part": "whole"
       },
       "id": "b9c6e00f-a630-407a-b74c-f8723c9d4249"
      }
     }
    },
    "aa97ccc7-ed69-4af0-91fe-48cdf64236c4": {
     "id": "aa97ccc7-ed69-4af0-91fe-48cdf64236c4",
     "prev": "9b543399-744d-4367-987c-523347d2b061",
     "regions": {
      "c57451cb-f406-4d65-be4c-45537fe15e12": {
       "attrs": {
        "height": 0.8,
        "width": 0.8,
        "x": 0.1,
        "y": 0.1
       },
       "content": {
        "cell": "577f4f83-a009-403e-90b1-c69c6b40c92e",
        "part": "whole"
       },
       "id": "c57451cb-f406-4d65-be4c-45537fe15e12"
      }
     }
    },
    "ac919024-b67a-48fc-91ec-53d27d5bc5d1": {
     "id": "ac919024-b67a-48fc-91ec-53d27d5bc5d1",
     "prev": "2df38fd9-7e2b-42f1-b587-a6884166b895",
     "regions": {
      "9c3d7ecf-2c82-4789-84a6-aba77d74947d": {
       "attrs": {
        "height": 0.8,
        "width": 0.8,
        "x": 0.1,
        "y": 0.1
       },
       "content": {
        "cell": "99c6192b-5a25-47a0-bd5f-3b2376244218",
        "part": "whole"
       },
       "id": "9c3d7ecf-2c82-4789-84a6-aba77d74947d"
      }
     }
    },
    "addbc8d3-2f6b-4ae9-b519-4d90329ff164": {
     "id": "addbc8d3-2f6b-4ae9-b519-4d90329ff164",
     "prev": "1429416d-9532-499d-b5dc-9d59d84f07e0",
     "regions": {
      "45babf0c-e6cd-48f5-a7da-5fc41ac17114": {
       "attrs": {
        "height": 0.8,
        "width": 0.8,
        "x": 0.1,
        "y": 0.1
       },
       "content": {
        "cell": "4605bf02-c308-44bd-8a82-661714a14b56",
        "part": "whole"
       },
       "id": "45babf0c-e6cd-48f5-a7da-5fc41ac17114"
      }
     }
    },
    "b743a238-444e-400f-83d4-01a181faf41a": {
     "id": "b743a238-444e-400f-83d4-01a181faf41a",
     "prev": "8ed9a5db-3d01-45d9-8e9a-2da5f6b7f2c4",
     "regions": {
      "6251ee18-d9a8-4a73-8b18-6436806de043": {
       "attrs": {
        "height": 0.8,
        "width": 0.8,
        "x": 0.1,
        "y": 0.1
       },
       "content": {
        "cell": "2773929d-37b8-4e8a-ac10-5a643cde1722",
        "part": "whole"
       },
       "id": "6251ee18-d9a8-4a73-8b18-6436806de043"
      }
     }
    },
    "b95fe798-5305-4e57-a836-cbb17f7469b5": {
     "id": "b95fe798-5305-4e57-a836-cbb17f7469b5",
     "prev": "fe1771ac-fc33-47e4-a80b-bf232e8718bb",
     "regions": {
      "6b5cecdf-ec1c-4a8c-8fe8-beddd94e3a53": {
       "attrs": {
        "height": 0.8,
        "width": 0.8,
        "x": 0.1,
        "y": 0.1
       },
       "content": {
        "cell": "c2078c0c-4f59-4f61-89ee-614088da1a30",
        "part": "whole"
       },
       "id": "6b5cecdf-ec1c-4a8c-8fe8-beddd94e3a53"
      }
     }
    },
    "bcdc4a40-3859-419c-b7e6-55838c889354": {
     "id": "bcdc4a40-3859-419c-b7e6-55838c889354",
     "prev": "ed61e66d-9f99-4945-9e63-ed3a68316cdc",
     "regions": {
      "ddc6ff2f-4598-4167-9b5c-b936edf8ec32": {
       "attrs": {
        "height": 0.8,
        "width": 0.8,
        "x": 0.1,
        "y": 0.1
       },
       "content": {
        "cell": "4aa75739-1264-456c-8b09-c0cce759dde6",
        "part": "whole"
       },
       "id": "ddc6ff2f-4598-4167-9b5c-b936edf8ec32"
      }
     }
    },
    "bdb0fbcc-e1a8-4593-a003-ac0164580df6": {
     "id": "bdb0fbcc-e1a8-4593-a003-ac0164580df6",
     "prev": "3e962079-da1f-40e3-accd-f65fb159be90",
     "regions": {
      "f1c9913f-f864-42d5-b69e-de234315ad20": {
       "attrs": {
        "height": 0.8,
        "width": 0.8,
        "x": 0.1,
        "y": 0.1
       },
       "content": {
        "cell": "26196e22-e109-49a4-85a2-3cf2aab1ff9a",
        "part": "whole"
       },
       "id": "f1c9913f-f864-42d5-b69e-de234315ad20"
      }
     }
    },
    "cbd75989-eff0-4a0f-b37d-7ffff402264d": {
     "id": "cbd75989-eff0-4a0f-b37d-7ffff402264d",
     "prev": "625d0685-91a5-4ed9-90af-82320008dd44",
     "regions": {
      "892c5150-c088-41b6-bce3-2b522c7f86d3": {
       "attrs": {
        "height": 0.8,
        "width": 0.8,
        "x": 0.1,
        "y": 0.1
       },
       "content": {
        "cell": "0b8b984c-feb3-4a82-bef5-7782ced666cc",
        "part": "whole"
       },
       "id": "892c5150-c088-41b6-bce3-2b522c7f86d3"
      }
     }
    },
    "cccc3eaf-5a80-4448-9e8e-417fe5215c65": {
     "id": "cccc3eaf-5a80-4448-9e8e-417fe5215c65",
     "prev": "bcdc4a40-3859-419c-b7e6-55838c889354",
     "regions": {
      "51dde5d9-9407-4c5b-bbed-b2f1c7144a3c": {
       "attrs": {
        "height": 0.8,
        "width": 0.8,
        "x": 0.1,
        "y": 0.1
       },
       "content": {
        "cell": "0a716616-a116-42da-818b-e07efaa66736",
        "part": "whole"
       },
       "id": "51dde5d9-9407-4c5b-bbed-b2f1c7144a3c"
      }
     }
    },
    "dd57c27e-2a1a-4631-b6a2-1978ff30a0f9": {
     "id": "dd57c27e-2a1a-4631-b6a2-1978ff30a0f9",
     "prev": "3e923cdf-c173-4495-a635-28a41baa10f1",
     "regions": {
      "60d4e8b4-0b2f-4423-8fdd-1003a0c3c257": {
       "attrs": {
        "height": 0.8,
        "width": 0.8,
        "x": 0.1,
        "y": 0.1
       },
       "content": {
        "cell": "381dd11a-df29-492c-a019-cde8c20edd2c",
        "part": "whole"
       },
       "id": "60d4e8b4-0b2f-4423-8fdd-1003a0c3c257"
      }
     }
    },
    "ed61e66d-9f99-4945-9e63-ed3a68316cdc": {
     "id": "ed61e66d-9f99-4945-9e63-ed3a68316cdc",
     "prev": "249e59e3-0433-47c2-8e16-320e407cf6c8",
     "regions": {
      "09d1615a-c16b-4a59-8465-3555c80b6743": {
       "attrs": {
        "height": 0.8,
        "width": 0.8,
        "x": 0.1,
        "y": 0.1
       },
       "content": {
        "cell": "7e90d098-4b64-46f1-926f-1a1cfea9b196",
        "part": "whole"
       },
       "id": "09d1615a-c16b-4a59-8465-3555c80b6743"
      }
     }
    },
    "ed97df68-f0be-4116-aa68-da82d58ed6e9": {
     "id": "ed97df68-f0be-4116-aa68-da82d58ed6e9",
     "prev": "34a13072-2a87-421d-9349-9a932412937e",
     "regions": {
      "42700995-c680-432b-b7bf-f3edc895b059": {
       "attrs": {
        "height": 0.8,
        "width": 0.8,
        "x": 0.1,
        "y": 0.1
       },
       "content": {
        "cell": "c4f5f132-f2f0-4ef7-a680-7da2f0bfe354",
        "part": "whole"
       },
       "id": "42700995-c680-432b-b7bf-f3edc895b059"
      }
     }
    },
    "fe1771ac-fc33-47e4-a80b-bf232e8718bb": {
     "id": "fe1771ac-fc33-47e4-a80b-bf232e8718bb",
     "prev": "8611301a-ef1b-47b3-8a13-41a6a5293abe",
     "regions": {
      "9656b972-8a03-43ad-bf08-67373b09ce9f": {
       "attrs": {
        "height": 0.8,
        "width": 0.8,
        "x": 0.1,
        "y": 0.1
       },
       "content": {
        "cell": "fef8ae8f-42ac-4f81-93bb-094b4f103dca",
        "part": "whole"
       },
       "id": "9656b972-8a03-43ad-bf08-67373b09ce9f"
      }
     }
    }
   },
   "themes": {}
  }
 },
 "nbformat": 4,
 "nbformat_minor": 2
}
